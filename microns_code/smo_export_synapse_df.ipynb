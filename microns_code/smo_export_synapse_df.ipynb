{
 "cells": [
  {
   "cell_type": "markdown",
   "id": "e1cc2318",
   "metadata": {},
   "source": [
    "# Aim\n",
    "\n",
    "- filter full synapse datatframe to pre- or postsynpases of the inhibitory and excitatory cells with a skeleton and with mitochondria "
   ]
  },
  {
   "cell_type": "code",
   "execution_count": 1,
   "id": "84d66ec1",
   "metadata": {},
   "outputs": [],
   "source": [
    "import pandas "
   ]
  },
  {
   "cell_type": "code",
   "execution_count": 2,
   "id": "1112a0ab",
   "metadata": {},
   "outputs": [],
   "source": [
    "inh_df = pandas.read_csv(\"smo_data/inh_cell.csv\", header=None, names=[\"cell_id\"])\n",
    "pyr_df = pandas.read_csv(\"data/pyc_analysis_ids.csv\", header=None, names=[\"cell_id\"])\n",
    "\n",
    "cell_ids = pandas.concat((inh_df, pyr_df))[\"cell_id\"].unique()"
   ]
  },
  {
   "cell_type": "code",
   "execution_count": 3,
   "id": "1d1ee3de",
   "metadata": {},
   "outputs": [],
   "source": [
    "syn_df = pandas.read_csv(\"smo_data/synapse.csv\", index_col=0)"
   ]
  },
  {
   "cell_type": "code",
   "execution_count": 4,
   "id": "889e618c",
   "metadata": {},
   "outputs": [],
   "source": [
    "is_pre = syn_df[\"pre_root_id\"].isin(cell_ids)\n",
    "is_post = syn_df[\"post_root_id\"].isin(cell_ids)\n"
   ]
  },
  {
   "cell_type": "code",
   "execution_count": 5,
   "id": "c15f880a",
   "metadata": {},
   "outputs": [
    {
     "data": {
      "text/plain": [
       "384"
      ]
     },
     "execution_count": 5,
     "metadata": {},
     "output_type": "execute_result"
    }
   ],
   "source": [
    "len(cell_ids)"
   ]
  },
  {
   "cell_type": "code",
   "execution_count": 6,
   "id": "09e1fc20",
   "metadata": {},
   "outputs": [
    {
     "data": {
      "text/plain": [
       "372"
      ]
     },
     "execution_count": 6,
     "metadata": {},
     "output_type": "execute_result"
    }
   ],
   "source": [
    "len(syn_df.loc[is_pre][\"pre_root_id\"].unique())"
   ]
  },
  {
   "cell_type": "code",
   "execution_count": 7,
   "id": "36a7f20d",
   "metadata": {},
   "outputs": [
    {
     "data": {
      "text/plain": [
       "384"
      ]
     },
     "execution_count": 7,
     "metadata": {},
     "output_type": "execute_result"
    }
   ],
   "source": [
    "len(syn_df.loc[is_post][\"post_root_id\"].unique())"
   ]
  },
  {
   "cell_type": "code",
   "execution_count": 8,
   "id": "c917928e",
   "metadata": {},
   "outputs": [],
   "source": [
    "import numpy as np"
   ]
  },
  {
   "cell_type": "code",
   "execution_count": 9,
   "id": "d4a9e2c2",
   "metadata": {},
   "outputs": [],
   "source": [
    "syn_df[\"cell_id\"] = np.nan\n",
    "syn_df = syn_df.astype({\"cell_id\": \"Int64\"})\n",
    "syn_df[\"synapse_type\"] = np.nan\n",
    "\n",
    "syn_df.loc[is_pre, \"cell_id\"] = syn_df.loc[is_pre, \"pre_root_id\"]\n",
    "syn_df.loc[is_pre, \"synapse_type\"] = \"pre\"\n",
    "\n",
    "syn_df.loc[is_post, \"cell_id\"] = syn_df.loc[is_post, \"post_root_id\"]\n",
    "syn_df.loc[is_post, \"synapse_type\"] = \"post\"\n",
    "\n",
    "\n",
    "\n",
    "syn_df.loc[syn_df[\"pre_root_id\"]==syn_df[\"post_root_id\"], \"synapse_type\"]=\"autapse\""
   ]
  },
  {
   "cell_type": "code",
   "execution_count": 10,
   "id": "5a3cf1ad",
   "metadata": {},
   "outputs": [],
   "source": [
    "df = syn_df.loc[is_pre | is_post]"
   ]
  },
  {
   "cell_type": "code",
   "execution_count": 11,
   "id": "f272234d",
   "metadata": {},
   "outputs": [
    {
     "data": {
      "text/plain": [
       "384"
      ]
     },
     "execution_count": 11,
     "metadata": {},
     "output_type": "execute_result"
    }
   ],
   "source": [
    "len(df[\"cell_id\"].unique())"
   ]
  },
  {
   "cell_type": "code",
   "execution_count": 12,
   "id": "f6443599",
   "metadata": {},
   "outputs": [
    {
     "data": {
      "text/plain": [
       "929375"
      ]
     },
     "execution_count": 12,
     "metadata": {},
     "output_type": "execute_result"
    }
   ],
   "source": [
    "len(df)"
   ]
  },
  {
   "cell_type": "code",
   "execution_count": 13,
   "id": "67d8bf05",
   "metadata": {},
   "outputs": [
    {
     "name": "stderr",
     "output_type": "stream",
     "text": [
      "/home/pfeiffer/miniconda3/envs/micronsbinder/lib/python3.7/site-packages/ipykernel_launcher.py:7: SettingWithCopyWarning: \n",
      "A value is trying to be set on a copy of a slice from a DataFrame.\n",
      "Try using .loc[row_indexer,col_indexer] = value instead\n",
      "\n",
      "See the caveats in the documentation: https://pandas.pydata.org/pandas-docs/stable/user_guide/indexing.html#returning-a-view-versus-a-copy\n",
      "  import sys\n"
     ]
    }
   ],
   "source": [
    "# voxel resolution in nm as found in computedensitystats.py\n",
    "\n",
    "VOXELRES = [3.58, 3.58, 40.0]  \n",
    "for c, s in zip(\"xyz\", VOXELRES):\n",
    "    df[c] = df[\"ctr_pos_{:s}_vx\".format(c)]*s\n"
   ]
  },
  {
   "cell_type": "code",
   "execution_count": 14,
   "id": "f142b95b",
   "metadata": {},
   "outputs": [],
   "source": [
    "df = df[[\"cell_id\", \"synapse_type\", \"x\", \"y\", \"z\", \"pre_root_id\", \"post_root_id\"]]\n",
    "df = df.reset_index(drop=False)\n"
   ]
  },
  {
   "cell_type": "code",
   "execution_count": 15,
   "id": "7cbbd442",
   "metadata": {},
   "outputs": [],
   "source": [
    "# duplicate synapses where both pre and post are in the cell ids\n",
    "hdf = df.loc[(df[\"synapse_type\"]=='post') & (df[\"pre_root_id\"].isin(cell_ids))]\n",
    "hdf = hdf.reset_index(drop=True)\n",
    "hdf[\"cell_id\"]=hdf[\"pre_root_id\"]\n",
    "hdf[\"synapse_type\"]=\"pre\"\n"
   ]
  },
  {
   "cell_type": "code",
   "execution_count": 16,
   "id": "69a7d8ae",
   "metadata": {},
   "outputs": [],
   "source": [
    "df=pandas.concat((df, hdf)).reset_index(drop=True)"
   ]
  },
  {
   "cell_type": "code",
   "execution_count": 21,
   "id": "5657f099",
   "metadata": {},
   "outputs": [
    {
     "data": {
      "text/html": [
       "<div>\n",
       "<style scoped>\n",
       "    .dataframe tbody tr th:only-of-type {\n",
       "        vertical-align: middle;\n",
       "    }\n",
       "\n",
       "    .dataframe tbody tr th {\n",
       "        vertical-align: top;\n",
       "    }\n",
       "\n",
       "    .dataframe thead th {\n",
       "        text-align: right;\n",
       "    }\n",
       "</style>\n",
       "<table border=\"1\" class=\"dataframe\">\n",
       "  <thead>\n",
       "    <tr style=\"text-align: right;\">\n",
       "      <th></th>\n",
       "      <th>x</th>\n",
       "      <th>y</th>\n",
       "      <th>z</th>\n",
       "    </tr>\n",
       "  </thead>\n",
       "  <tbody>\n",
       "    <tr>\n",
       "      <th>0</th>\n",
       "      <td>251301.68</td>\n",
       "      <td>234396.92</td>\n",
       "      <td>40600.0</td>\n",
       "    </tr>\n",
       "    <tr>\n",
       "      <th>1</th>\n",
       "      <td>356614.54</td>\n",
       "      <td>186661.20</td>\n",
       "      <td>50760.0</td>\n",
       "    </tr>\n",
       "    <tr>\n",
       "      <th>2</th>\n",
       "      <td>334608.28</td>\n",
       "      <td>254180.00</td>\n",
       "      <td>20000.0</td>\n",
       "    </tr>\n",
       "    <tr>\n",
       "      <th>3</th>\n",
       "      <td>383718.72</td>\n",
       "      <td>252776.64</td>\n",
       "      <td>8800.0</td>\n",
       "    </tr>\n",
       "    <tr>\n",
       "      <th>4</th>\n",
       "      <td>332846.92</td>\n",
       "      <td>174825.72</td>\n",
       "      <td>4480.0</td>\n",
       "    </tr>\n",
       "    <tr>\n",
       "      <th>...</th>\n",
       "      <td>...</td>\n",
       "      <td>...</td>\n",
       "      <td>...</td>\n",
       "    </tr>\n",
       "    <tr>\n",
       "      <th>935676</th>\n",
       "      <td>338109.52</td>\n",
       "      <td>139254.84</td>\n",
       "      <td>53200.0</td>\n",
       "    </tr>\n",
       "    <tr>\n",
       "      <th>935677</th>\n",
       "      <td>339584.48</td>\n",
       "      <td>147037.76</td>\n",
       "      <td>73080.0</td>\n",
       "    </tr>\n",
       "    <tr>\n",
       "      <th>935678</th>\n",
       "      <td>337923.36</td>\n",
       "      <td>165306.50</td>\n",
       "      <td>68000.0</td>\n",
       "    </tr>\n",
       "    <tr>\n",
       "      <th>935679</th>\n",
       "      <td>336920.96</td>\n",
       "      <td>152329.00</td>\n",
       "      <td>80760.0</td>\n",
       "    </tr>\n",
       "    <tr>\n",
       "      <th>935680</th>\n",
       "      <td>338052.24</td>\n",
       "      <td>151219.20</td>\n",
       "      <td>82680.0</td>\n",
       "    </tr>\n",
       "  </tbody>\n",
       "</table>\n",
       "<p>935681 rows × 3 columns</p>\n",
       "</div>"
      ],
      "text/plain": [
       "                x          y        z\n",
       "0       251301.68  234396.92  40600.0\n",
       "1       356614.54  186661.20  50760.0\n",
       "2       334608.28  254180.00  20000.0\n",
       "3       383718.72  252776.64   8800.0\n",
       "4       332846.92  174825.72   4480.0\n",
       "...           ...        ...      ...\n",
       "935676  338109.52  139254.84  53200.0\n",
       "935677  339584.48  147037.76  73080.0\n",
       "935678  337923.36  165306.50  68000.0\n",
       "935679  336920.96  152329.00  80760.0\n",
       "935680  338052.24  151219.20  82680.0\n",
       "\n",
       "[935681 rows x 3 columns]"
      ]
     },
     "execution_count": 21,
     "metadata": {},
     "output_type": "execute_result"
    }
   ],
   "source": [
    "df[[\"x\", \"y\", \"z\"]]"
   ]
  },
  {
   "cell_type": "code",
   "execution_count": 17,
   "id": "69ce17fa",
   "metadata": {},
   "outputs": [
    {
     "data": {
      "text/html": [
       "<div>\n",
       "<style scoped>\n",
       "    .dataframe tbody tr th:only-of-type {\n",
       "        vertical-align: middle;\n",
       "    }\n",
       "\n",
       "    .dataframe tbody tr th {\n",
       "        vertical-align: top;\n",
       "    }\n",
       "\n",
       "    .dataframe thead th {\n",
       "        text-align: right;\n",
       "    }\n",
       "</style>\n",
       "<table border=\"1\" class=\"dataframe\">\n",
       "  <thead>\n",
       "    <tr style=\"text-align: right;\">\n",
       "      <th></th>\n",
       "      <th>id</th>\n",
       "      <th>cell_id</th>\n",
       "      <th>synapse_type</th>\n",
       "      <th>x</th>\n",
       "      <th>y</th>\n",
       "      <th>z</th>\n",
       "      <th>pre_root_id</th>\n",
       "      <th>post_root_id</th>\n",
       "    </tr>\n",
       "  </thead>\n",
       "  <tbody>\n",
       "    <tr>\n",
       "      <th>0</th>\n",
       "      <td>2715757</td>\n",
       "      <td>648518346349538285</td>\n",
       "      <td>pre</td>\n",
       "      <td>251301.68</td>\n",
       "      <td>234396.92</td>\n",
       "      <td>40600.0</td>\n",
       "      <td>648518346349538285</td>\n",
       "      <td>648518346349536759</td>\n",
       "    </tr>\n",
       "    <tr>\n",
       "      <th>1</th>\n",
       "      <td>12517</td>\n",
       "      <td>648518346349537255</td>\n",
       "      <td>post</td>\n",
       "      <td>356614.54</td>\n",
       "      <td>186661.20</td>\n",
       "      <td>50760.0</td>\n",
       "      <td>648518346342796822</td>\n",
       "      <td>648518346349537255</td>\n",
       "    </tr>\n",
       "    <tr>\n",
       "      <th>2</th>\n",
       "      <td>1961413</td>\n",
       "      <td>648518346349537649</td>\n",
       "      <td>post</td>\n",
       "      <td>334608.28</td>\n",
       "      <td>254180.00</td>\n",
       "      <td>20000.0</td>\n",
       "      <td>648518346344080496</td>\n",
       "      <td>648518346349537649</td>\n",
       "    </tr>\n",
       "  </tbody>\n",
       "</table>\n",
       "</div>"
      ],
      "text/plain": [
       "        id             cell_id synapse_type          x          y        z  \\\n",
       "0  2715757  648518346349538285          pre  251301.68  234396.92  40600.0   \n",
       "1    12517  648518346349537255         post  356614.54  186661.20  50760.0   \n",
       "2  1961413  648518346349537649         post  334608.28  254180.00  20000.0   \n",
       "\n",
       "          pre_root_id        post_root_id  \n",
       "0  648518346349538285  648518346349536759  \n",
       "1  648518346342796822  648518346349537255  \n",
       "2  648518346344080496  648518346349537649  "
      ]
     },
     "execution_count": 17,
     "metadata": {},
     "output_type": "execute_result"
    }
   ],
   "source": [
    "df.head(3)"
   ]
  },
  {
   "cell_type": "code",
   "execution_count": 18,
   "id": "07473528",
   "metadata": {},
   "outputs": [],
   "source": [
    "df.to_csv(\"smo_data/synapse_filtered.csv\")"
   ]
  },
  {
   "cell_type": "code",
   "execution_count": 19,
   "id": "da932aeb",
   "metadata": {},
   "outputs": [],
   "source": [
    "hdf = df.groupby(by=[\"synapse_type\", \"cell_id\"])[[\"x\"]].count()\n",
    "hdf = hdf.rename(columns={\"x\":\"count\"})"
   ]
  },
  {
   "cell_type": "code",
   "execution_count": 20,
   "id": "0e933717",
   "metadata": {},
   "outputs": [
    {
     "data": {
      "text/html": [
       "<div>\n",
       "<style scoped>\n",
       "    .dataframe tbody tr th:only-of-type {\n",
       "        vertical-align: middle;\n",
       "    }\n",
       "\n",
       "    .dataframe tbody tr th {\n",
       "        vertical-align: top;\n",
       "    }\n",
       "\n",
       "    .dataframe thead th {\n",
       "        text-align: right;\n",
       "    }\n",
       "</style>\n",
       "<table border=\"1\" class=\"dataframe\">\n",
       "  <thead>\n",
       "    <tr style=\"text-align: right;\">\n",
       "      <th></th>\n",
       "      <th>total count</th>\n",
       "      <th>mean per cell</th>\n",
       "      <th>25%</th>\n",
       "      <th>50%</th>\n",
       "      <th>75%</th>\n",
       "    </tr>\n",
       "    <tr>\n",
       "      <th>synapse_type</th>\n",
       "      <th></th>\n",
       "      <th></th>\n",
       "      <th></th>\n",
       "      <th></th>\n",
       "      <th></th>\n",
       "    </tr>\n",
       "  </thead>\n",
       "  <tbody>\n",
       "    <tr>\n",
       "      <th>autapse</th>\n",
       "      <td>14</td>\n",
       "      <td>1.166667</td>\n",
       "      <td>1.00</td>\n",
       "      <td>1.0</td>\n",
       "      <td>1.00</td>\n",
       "    </tr>\n",
       "    <tr>\n",
       "      <th>post</th>\n",
       "      <td>920639</td>\n",
       "      <td>2397.497396</td>\n",
       "      <td>1552.75</td>\n",
       "      <td>2368.0</td>\n",
       "      <td>3171.25</td>\n",
       "    </tr>\n",
       "    <tr>\n",
       "      <th>pre</th>\n",
       "      <td>15028</td>\n",
       "      <td>40.506739</td>\n",
       "      <td>3.00</td>\n",
       "      <td>6.0</td>\n",
       "      <td>48.50</td>\n",
       "    </tr>\n",
       "  </tbody>\n",
       "</table>\n",
       "</div>"
      ],
      "text/plain": [
       "              total count  mean per cell      25%     50%      75%\n",
       "synapse_type                                                      \n",
       "autapse                14       1.166667     1.00     1.0     1.00\n",
       "post               920639    2397.497396  1552.75  2368.0  3171.25\n",
       "pre                 15028      40.506739     3.00     6.0    48.50"
      ]
     },
     "execution_count": 20,
     "metadata": {},
     "output_type": "execute_result"
    }
   ],
   "source": [
    "hdf.groupby(by=\"synapse_type\").apply(lambda df: pandas.DataFrame(\n",
    "    data={\n",
    "        \"total count\": df.sum(), \n",
    "        \"mean per cell\": df.mean(), \n",
    "        \"25%\": df.quantile(q=0.25),\n",
    "        \"50%\": df.quantile(q=0.5),\n",
    "        \"75%\": df.quantile(q=0.75),\n",
    "    })).droplevel(1)"
   ]
  }
 ],
 "metadata": {
  "kernelspec": {
   "display_name": "micronsbinder",
   "language": "python",
   "name": "micronsbinder"
  },
  "language_info": {
   "codemirror_mode": {
    "name": "ipython",
    "version": 3
   },
   "file_extension": ".py",
   "mimetype": "text/x-python",
   "name": "python",
   "nbconvert_exporter": "python",
   "pygments_lexer": "ipython3",
   "version": "3.7.16"
  }
 },
 "nbformat": 4,
 "nbformat_minor": 5
}
