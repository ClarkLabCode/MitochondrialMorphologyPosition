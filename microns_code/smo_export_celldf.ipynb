{
 "cells": [
  {
   "cell_type": "code",
   "execution_count": 2,
   "id": "2aae4d0b",
   "metadata": {},
   "outputs": [],
   "source": [
    "import pandas"
   ]
  },
  {
   "cell_type": "code",
   "execution_count": 4,
   "id": "a74e781e",
   "metadata": {},
   "outputs": [],
   "source": [
    "# filter to inhibitory and excitatory cells\n",
    "\n",
    "inh_df = pandas.read_csv(\"smo_data/inh_cell.csv\", names=[\"cell_id\"], header=None)\n",
    "pyr_df = pandas.read_csv(\"data/pyc_analysis_ids.csv\", header=None, names=[\"cell_id\"])\n",
    "cell_ids = pandas.concat((inh_df, pyr_df))[\"cell_id\"].unique()\n",
    "\n",
    "cell_df = pandas.read_csv(\"smo_data/cell_type_classification.csv\", index_col=0)\n",
    "\n",
    "cell_df = cell_df.loc[cell_df[\"cell_segid\"].isin(cell_ids)]\n",
    "\n",
    "cell_df = cell_df.rename(columns={\"cell_segid\": \"cell_id\"})"
   ]
  },
  {
   "cell_type": "code",
   "execution_count": 6,
   "id": "e00b2b5e",
   "metadata": {},
   "outputs": [],
   "source": [
    "cell_df =cell_df.set_index(\"cell_id\")"
   ]
  },
  {
   "cell_type": "code",
   "execution_count": 8,
   "id": "e278ba15",
   "metadata": {},
   "outputs": [],
   "source": [
    "cell_df.to_csv(\"smo_data/cell_type_classification_filtered.csv\")"
   ]
  }
 ],
 "metadata": {
  "kernelspec": {
   "display_name": "micronsbinder",
   "language": "python",
   "name": "micronsbinder"
  },
  "language_info": {
   "codemirror_mode": {
    "name": "ipython",
    "version": 3
   },
   "file_extension": ".py",
   "mimetype": "text/x-python",
   "name": "python",
   "nbconvert_exporter": "python",
   "pygments_lexer": "ipython3",
   "version": "3.7.16"
  }
 },
 "nbformat": 4,
 "nbformat_minor": 5
}
