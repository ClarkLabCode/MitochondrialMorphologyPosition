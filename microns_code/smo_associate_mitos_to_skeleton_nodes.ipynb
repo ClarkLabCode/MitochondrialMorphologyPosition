{
 "cells": [
  {
   "cell_type": "markdown",
   "id": "977cb76f",
   "metadata": {},
   "source": [
    "# Association of the mitochondria to the neuronal skeletons\n"
   ]
  },
  {
   "cell_type": "code",
   "execution_count": 1,
   "id": "d7a0588c",
   "metadata": {
    "execution": {
     "iopub.execute_input": "2025-05-15T09:48:42.666602Z",
     "iopub.status.busy": "2025-05-15T09:48:42.666019Z",
     "iopub.status.idle": "2025-05-15T09:48:42.845058Z",
     "shell.execute_reply": "2025-05-15T09:48:42.844704Z"
    }
   },
   "outputs": [],
   "source": [
    "# load a cell, its skeleton and the mito dataframe\n",
    "import pandas \n",
    "\n",
    "cell_df = pandas.read_csv(\"smo_data/inh_cell.csv\", header=0, names=[\"cellid\"])\n",
    "example_cell = cell_df.iloc[0]\n",
    "\n",
    "# for each mito, load the mesh and get the closest node for all mesh nodes\n",
    "\n",
    "# two alternatives navis.snap or via KDtree and the mesh skeleton\n",
    "\n",
    "# combine the found nodes into a unique set\n",
    "\n",
    "# write to file"
   ]
  },
  {
   "cell_type": "code",
   "execution_count": 2,
   "id": "3e0021af",
   "metadata": {
    "execution": {
     "iopub.execute_input": "2025-05-15T09:48:42.846906Z",
     "iopub.status.busy": "2025-05-15T09:48:42.846806Z",
     "iopub.status.idle": "2025-05-15T09:48:48.440310Z",
     "shell.execute_reply": "2025-05-15T09:48:48.438807Z"
    }
   },
   "outputs": [],
   "source": [
    "import tqdm\n",
    "\n",
    "import navis\n",
    "import os\n",
    "import sys\n",
    "sys.path.append(\".\")\n",
    "from lib import mesh\n",
    "\n",
    "\n",
    "def get_cell_with_synapses_and_mitodfs(cellid):\n",
    "    cell_df = pandas.read_csv(\"smo_data/cell_type_classification_filtered.csv\", index_col=0)\n",
    "    neuron = navis.read_swc(\"smo_data/cell_morphologies/{:d}.swc\".format(cellid))\n",
    "    synapse_df = pandas.read_csv(\"smo_data/synapse_filtered.csv\", index_col=0).query(\"cell_id==@cellid\")\n",
    "    mito_df = pandas.read_csv(\n",
    "        \"smo_data/microns_cells/{:s}_{:d}.csv\".format(\n",
    "        cell_df.loc[cellid].cell_type, cellid), index_col=0\n",
    "    )\n",
    "    return neuron, synapse_df, mito_df\n",
    "\n",
    "\n",
    "\n",
    "def get_associated_nodes(mito_sr, neuron):\n",
    "    mitoid = mito_sr[\"mito_id\"]\n",
    "    mito = mesh.read_mito_mesh(mitoid)\n",
    "\n",
    "    assoc_nodes, dist = neuron.snap(mito.vertices)\n",
    "    assoc_nodes = list(set(assoc_nodes))\n",
    "    return assoc_nodes\n",
    "\n",
    "\n",
    "def get_all_associated_nodes(neuron, mito_df):\n",
    "    assoc_nodes_df = mito_df.set_index(\"mito_id\", drop=False).apply(\n",
    "        lambda sr: get_associated_nodes(sr, neuron), axis=1)\n",
    "    \n",
    "    return assoc_nodes_df\n",
    "\n",
    "def write_mitochondria_and_associated_nodes(cellid, path):\n",
    "    neuron, synapse_df, mito_df = get_cell_with_synapses_and_mitodfs(cellid)\n",
    "    assoc_nodes_df = get_all_associated_nodes(neuron, mito_df.query(\"compartment!='Somatic'\"))\n",
    "    filename = os.path.join(path, \"{:d}_assoc_nodes.json\".format(cellid))\n",
    "    assoc_nodes_df.to_json(filename)\n",
    "    \n",
    "def write_all_mitochondria_and_associated_nodes(cell_df, path):\n",
    "    for idx, cell_sr in tqdm.tqdm(cell_df.iterrows(), total=len(cell_df), position=0, leave=True):\n",
    "        cellid = int(cell_sr.name)\n",
    "        try:\n",
    "            write_mitochondria_and_associated_nodes(cellid, \"smo_data/associated_nodes/\")\n",
    "        except BaseException as e:\n",
    "            print(e)\n",
    "            tqdm.tqdm.write(\"Problems with cell {:d}\".format(cellid))\n",
    "\n",
    "    "
   ]
  },
  {
   "cell_type": "code",
   "execution_count": 3,
   "id": "47ea64d2",
   "metadata": {
    "execution": {
     "iopub.execute_input": "2025-05-15T09:48:48.447025Z",
     "iopub.status.busy": "2025-05-15T09:48:48.446147Z",
     "iopub.status.idle": "2025-05-15T09:48:48.457034Z",
     "shell.execute_reply": "2025-05-15T09:48:48.456290Z"
    }
   },
   "outputs": [],
   "source": [
    "cell_df = pandas.read_csv(\"smo_data/cell_type_classification_filtered.csv\", index_col=0)"
   ]
  },
  {
   "cell_type": "code",
   "execution_count": 4,
   "id": "fa7f74f4",
   "metadata": {
    "execution": {
     "iopub.execute_input": "2025-05-15T09:48:48.460684Z",
     "iopub.status.busy": "2025-05-15T09:48:48.460369Z",
     "iopub.status.idle": "2025-05-15T09:48:48.598160Z",
     "shell.execute_reply": "2025-05-15T09:48:48.595615Z"
    }
   },
   "outputs": [],
   "source": [
    "!mkdir -p smo_data/associated_nodes"
   ]
  },
  {
   "cell_type": "code",
   "execution_count": 5,
   "id": "4b8e7c73",
   "metadata": {
    "execution": {
     "iopub.execute_input": "2025-05-15T09:48:48.606689Z",
     "iopub.status.busy": "2025-05-15T09:48:48.605109Z",
     "iopub.status.idle": "2025-05-15T09:56:18.656669Z",
     "shell.execute_reply": "2025-05-15T09:56:18.656244Z"
    }
   },
   "outputs": [
    {
     "name": "stderr",
     "output_type": "stream",
     "text": [
      "100%|████████████████████| 384/384 [07:30<00:00,  1.17s/it]\n"
     ]
    }
   ],
   "source": [
    "write_all_mitochondria_and_associated_nodes(cell_df, \"smo_data/associated_nodes/\")"
   ]
  }
 ],
 "metadata": {
  "kernelspec": {
   "display_name": "micronsbinder",
   "language": "python",
   "name": "micronsbinder"
  },
  "language_info": {
   "codemirror_mode": {
    "name": "ipython",
    "version": 3
   },
   "file_extension": ".py",
   "mimetype": "text/x-python",
   "name": "python",
   "nbconvert_exporter": "python",
   "pygments_lexer": "ipython3",
   "version": "3.7.16"
  }
 },
 "nbformat": 4,
 "nbformat_minor": 5
}
