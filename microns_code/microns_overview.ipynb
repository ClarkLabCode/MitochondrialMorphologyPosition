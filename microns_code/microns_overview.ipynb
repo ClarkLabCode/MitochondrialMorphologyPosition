{
 "cells": [
  {
   "cell_type": "code",
   "execution_count": 1,
   "id": "b8833010",
   "metadata": {},
   "outputs": [],
   "source": [
    "import sys\n",
    "sys.path.append(\".\")\n",
    "import smo_lib.io as smo_io\n",
    "\n",
    "import matplotlib.pyplot as plt\n",
    "\n",
    "import pandas"
   ]
  },
  {
   "cell_type": "code",
   "execution_count": 2,
   "id": "9061cdbd",
   "metadata": {},
   "outputs": [],
   "source": [
    "cell_df = pandas.read_csv(\"smo_data/cell_type_classification_filtered.csv\")\n",
    "mito_df = smo_io.get_mito_dfs(cell_df[\"cell_id\"].unique())\n"
   ]
  },
  {
   "cell_type": "code",
   "execution_count": 3,
   "id": "b31d3b02",
   "metadata": {},
   "outputs": [],
   "source": [
    "df = mito_df\\\n",
    "    .query(\"cell_subtype!='unknown_type'\")\\\n",
    "    .groupby([\"cell_type\", \"cell_subtype\"])\\\n",
    "    .apply(lambda dfh: pandas.Series({\"Number of neurons\": len(dfh[\"cellid\"].unique()), \"Number of mitochondria\": len(dfh)}))\\\n",
    "    .sort_values(by=\"Number of neurons\", ascending=False)\n",
    "\n",
    "number_of_celltype=len(df)\n",
    "\n",
    "idx = pandas.MultiIndex.from_product([[\"All cells\"], [\"\"]], names=[\"cell_type\", \"cell_subtype\"])\n",
    "\n",
    "df = df.append(df.agg([\"sum\"]).set_index(idx))\n",
    "\n",
    "df = df.reset_index(drop=False)\n",
    "df = df.replace(to_replace=\"pyramidal\", value=\"excitatory\")\n",
    "df = df.rename(columns={\n",
    "    \"Number of neurons\": \"Number of\\n neurons\", \n",
    "    \"Number of mitochondria\": \"Number of\\n mitochondria\",\n",
    "    \"cell_type\": \"Neuron\\n class\",\n",
    "    \"cell_subtype\": \"Neuron\\n type\"\n",
    "})"
   ]
  },
  {
   "cell_type": "code",
   "execution_count": 4,
   "id": "732ce81c",
   "metadata": {},
   "outputs": [],
   "source": [
    "!mkdir -p figures"
   ]
  },
  {
   "cell_type": "code",
   "execution_count": 5,
   "id": "434ce8c8",
   "metadata": {},
   "outputs": [
    {
     "data": {
      "image/png": "[encoded data removed]",
      "text/plain": [
       "<Figure size 354.331x196.85 with 1 Axes>"
      ]
     },
     "metadata": {},
     "output_type": "display_data"
    }
   ],
   "source": [
    "\n",
    "\n",
    "fig, ax = plt.subplots(figsize=(9/2.54, 5/2.54))\n",
    "ax.axis('off')\n",
    "#table = pandas.plotting.table(ax, df, loc=\"center\", edges=\"open\", colWidths=[0.33, 0.33, 0.33])\n",
    "table =ax.table(cellText=df.values, colLabels=df.keys(), loc=\"center\", edges=\"open\")\n",
    "table.auto_set_font_size(False)\n",
    "table.set_fontsize(8)\n",
    "cell_dict = table.get_celld()\n",
    "no_columns = len(df.keys())\n",
    "no_rows = len(df)+1\n",
    "for i in range(no_columns):\n",
    "    cell_dict[(0,i)].set_height(.3)\n",
    "\n",
    "for i in range(no_columns):\n",
    "    cell_dict[(number_of_celltype+1, i)].set_text_props(fontweight=\"bold\")\n",
    "    \n",
    "for row in range(1, no_rows):\n",
    "    for col in [0,1]:\n",
    "        cell_dict[(row, col)].set_text_props(ha=\"left\")\n",
    "fig.tight_layout()\n",
    "plt.savefig(\"figures/microns_overview.svg\", bbox_inches=\"tight\", transparent=True)\n"
   ]
  },
  {
   "cell_type": "markdown",
   "id": "d0352594",
   "metadata": {},
   "source": [
    "### How to export\n",
    "\n",
    "- matplotlib png https://pandas.pydata.org/docs/reference/api/pandas.plotting.table.html"
   ]
  }
 ],
 "metadata": {
  "kernelspec": {
   "display_name": "micronsbinder",
   "language": "python",
   "name": "micronsbinder"
  },
  "language_info": {
   "codemirror_mode": {
    "name": "ipython",
    "version": 3
   },
   "file_extension": ".py",
   "mimetype": "text/x-python",
   "name": "python",
   "nbconvert_exporter": "python",
   "pygments_lexer": "ipython3",
   "version": "3.7.16"
  }
 },
 "nbformat": 4,
 "nbformat_minor": 5
}
