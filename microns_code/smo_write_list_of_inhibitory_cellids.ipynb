{
 "cells": [
  {
   "cell_type": "code",
   "execution_count": 1,
   "id": "35c97dae",
   "metadata": {},
   "outputs": [],
   "source": [
    "import pandas"
   ]
  },
  {
   "cell_type": "code",
   "execution_count": 2,
   "id": "25418db5",
   "metadata": {},
   "outputs": [],
   "source": [
    "# all mitos associated to cells with a soma and a skeleton\n",
    "mito_df = pandas.read_csv(\"data/pni_mito_cellswskel_v185.csv\", index_col=0)\n",
    "\n",
    "# cell type classification\n",
    "cell_types=pandas.read_csv(\"smo_data/cell_type_classification.csv\", index_col=0)"
   ]
  },
  {
   "cell_type": "code",
   "execution_count": 3,
   "id": "d3c287f2",
   "metadata": {},
   "outputs": [],
   "source": [
    "# get cells ids of inhibitory cells with mitochondria\n",
    "mito_df_celllabelled =  mito_df.merge(right=cell_types, left_on=\"cellid\", right_on=\"cell_segid\")\n",
    "\n",
    "inh_ids = mito_df_celllabelled.query(\"cell_type=='inhibitory'\")[\"cellid\"].unique()"
   ]
  },
  {
   "cell_type": "code",
   "execution_count": 4,
   "id": "81ad836b",
   "metadata": {},
   "outputs": [],
   "source": [
    "# write inh ids\n",
    "pandas.Series(inh_ids).to_csv(\"smo_data/inh_cell.csv\", header=False, index=False)\n",
    "\n"
   ]
  },
  {
   "cell_type": "code",
   "execution_count": 5,
   "id": "1a984b05",
   "metadata": {},
   "outputs": [],
   "source": [
    "mito_df.loc[mito_df[\"cellid\"].isin(inh_ids)].to_csv(\"smo_data/inh_mito.csv\")"
   ]
  },
  {
   "cell_type": "code",
   "execution_count": null,
   "id": "7afa2fba",
   "metadata": {},
   "outputs": [],
   "source": []
  }
 ],
 "metadata": {
  "kernelspec": {
   "display_name": "micronsbinder",
   "language": "python",
   "name": "micronsbinder"
  },
  "language_info": {
   "codemirror_mode": {
    "name": "ipython",
    "version": 3
   },
   "file_extension": ".py",
   "mimetype": "text/x-python",
   "name": "python",
   "nbconvert_exporter": "python",
   "pygments_lexer": "ipython3",
   "version": "3.7.16"
  }
 },
 "nbformat": 4,
 "nbformat_minor": 5
}
